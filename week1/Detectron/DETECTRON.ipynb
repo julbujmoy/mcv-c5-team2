{
 "cells": [
  {
   "cell_type": "code",
   "id": "initial_id",
   "metadata": {
    "collapsed": true,
    "ExecuteTime": {
     "end_time": "2025-03-08T12:42:05.108429Z",
     "start_time": "2025-03-08T12:42:05.062367Z"
    }
   },
   "source": [
    "import detectron2\n",
    "from detectron2.utils.logger import setup_logger\n",
    "setup_logger()\n",
    "\n",
    "import json\n",
    "import os\n",
    "from detectron2.engine import DefaultPredictor\n",
    "from detectron2.data import build_detection_test_loader\n",
    "from detectron2.evaluation import COCOEvaluator, inference_on_dataset\n",
    "from detectron2.config import get_cfg\n",
    "from detectron2.data.datasets import register_coco_instances\n",
    "from detectron2 import model_zoo\n",
    "\n",
    "# Cargar el archivo original en formato lista\n",
    "with open(\"/home/toukapy/Documentos/Master CV/C5/mcv-c5-team2/week1/kitti_mots_coco.json\", \"r\") as f:\n",
    "    original_data = json.load(f)\n",
    "\n",
    "# Convertir al formato COCO correcto\n",
    "coco_format = {\"images\": [], \"annotations\": [], \"categories\": []}\n",
    "ann_id = 1\n",
    "for idx, item in enumerate(original_data):\n",
    "    coco_format[\"images\"].append({\n",
    "        \"id\": idx,\n",
    "        \"file_name\": item[\"image\"][\"file_name\"],\n",
    "        \"width\": item[\"image\"][\"width\"],\n",
    "        \"height\": item[\"image\"][\"height\"]\n",
    "    })\n",
    "\n",
    "    for bbox, category_id in zip(item[\"objects\"][\"bbox\"], item[\"objects\"][\"category\"]):\n",
    "        coco_format[\"annotations\"].append({\n",
    "            \"id\": ann_id,\n",
    "            \"image_id\": idx,\n",
    "            \"category_id\": category_id,\n",
    "            \"bbox\": bbox,\n",
    "            \"area\": bbox[2] * bbox[3],\n",
    "            \"iscrowd\": 0\n",
    "        })\n",
    "        ann_id += 1\n",
    "\n",
    "# Añadir categorías manualmente\n",
    "coco_format[\"categories\"] = [\n",
    "    {\"id\": 1, \"name\": \"car\"},\n",
    "    {\"id\": 2, \"name\": \"person\"}\n",
    "]\n",
    "\n",
    "# Guardar en formato válido\n",
    "output_json = \"/home/toukapy/Documentos/Master CV/C5/mcv-c5-team2/week1/kitti_mots_coco_valid.json\"\n",
    "with open(output_json, \"w\") as f:\n",
    "    json.dump(coco_format, f)\n",
    "\n",
    "# Registrar KITTI-MOTS en formato COCO\n",
    "image_root = \"/home/toukapy/Documentos/Master CV/C5/mcv-c5-team2/week1/data/KITTI-MOTS/training/images\"\n",
    "register_coco_instances(\"kitti_mots_val\", {}, output_json, image_root)\n",
    "\n",
    "# Cargar configuración desde detectron2 model zoo\n",
    "cfg = get_cfg()\n",
    "cfg.merge_from_file(model_zoo.get_config_file(\"COCO-Detection/faster_rcnn_R_50_FPN_3x.yaml\"))\n",
    "cfg.MODEL.WEIGHTS = model_zoo.get_checkpoint_url(\"COCO-Detection/faster_rcnn_R_50_FPN_3x.yaml\")\n",
    "cfg.MODEL.ROI_HEADS.NUM_CLASSES = 2  # clases KITTI-MOTS: car y person\n",
    "cfg.MODEL.ROI_HEADS.SCORE_THRESH_TEST = 0.5\n",
    "cfg.DATASETS.TEST = (\"kitti_mots_val\",)\n",
    "\n",
    "# Predictor\n",
    "predictor = DefaultPredictor(cfg)\n",
    "\n",
    "# Evaluación usando COCOEvaluator\n",
    "evaluator = COCOEvaluator(\"kitti_mots_val\", cfg, False, output_dir=\"./output/\")\n",
    "val_loader = build_detection_test_loader(cfg, \"kitti_mots_val\")\n",
    "\n",
    "# Evaluación\n",
    "print(\"Evaluando Faster R-CNN en KITTI-MOTS...\")\n",
    "metrics = inference_on_dataset(predictor.model, val_loader, evaluator)\n",
    "\n",
    "# Mostrar resultados\n",
    "print(json.dumps(metrics, indent=2))\n",
    "\n",
    "\n"
   ],
   "outputs": [
    {
     "ename": "TypeError",
     "evalue": "string indices must be integers, not 'str'",
     "output_type": "error",
     "traceback": [
      "\u001B[0;31m---------------------------------------------------------------------------\u001B[0m",
      "\u001B[0;31mTypeError\u001B[0m                                 Traceback (most recent call last)",
      "Cell \u001B[0;32mIn[2], line 24\u001B[0m\n\u001B[1;32m     20\u001B[0m ann_id \u001B[38;5;241m=\u001B[39m \u001B[38;5;241m1\u001B[39m\n\u001B[1;32m     21\u001B[0m \u001B[38;5;28;01mfor\u001B[39;00m idx, item \u001B[38;5;129;01min\u001B[39;00m \u001B[38;5;28menumerate\u001B[39m(original_data):\n\u001B[1;32m     22\u001B[0m     coco_format[\u001B[38;5;124m\"\u001B[39m\u001B[38;5;124mimages\u001B[39m\u001B[38;5;124m\"\u001B[39m]\u001B[38;5;241m.\u001B[39mappend({\n\u001B[1;32m     23\u001B[0m         \u001B[38;5;124m\"\u001B[39m\u001B[38;5;124mid\u001B[39m\u001B[38;5;124m\"\u001B[39m: idx,\n\u001B[0;32m---> 24\u001B[0m         \u001B[38;5;124m\"\u001B[39m\u001B[38;5;124mfile_name\u001B[39m\u001B[38;5;124m\"\u001B[39m: \u001B[43mitem\u001B[49m\u001B[43m[\u001B[49m\u001B[38;5;124;43m\"\u001B[39;49m\u001B[38;5;124;43mimage\u001B[39;49m\u001B[38;5;124;43m\"\u001B[39;49m\u001B[43m]\u001B[49m\u001B[43m[\u001B[49m\u001B[38;5;124;43m\"\u001B[39;49m\u001B[38;5;124;43mfile_name\u001B[39;49m\u001B[38;5;124;43m\"\u001B[39;49m\u001B[43m]\u001B[49m,\n\u001B[1;32m     25\u001B[0m         \u001B[38;5;124m\"\u001B[39m\u001B[38;5;124mwidth\u001B[39m\u001B[38;5;124m\"\u001B[39m: item[\u001B[38;5;124m\"\u001B[39m\u001B[38;5;124mimage\u001B[39m\u001B[38;5;124m\"\u001B[39m][\u001B[38;5;124m\"\u001B[39m\u001B[38;5;124mwidth\u001B[39m\u001B[38;5;124m\"\u001B[39m],\n\u001B[1;32m     26\u001B[0m         \u001B[38;5;124m\"\u001B[39m\u001B[38;5;124mheight\u001B[39m\u001B[38;5;124m\"\u001B[39m: item[\u001B[38;5;124m\"\u001B[39m\u001B[38;5;124mimage\u001B[39m\u001B[38;5;124m\"\u001B[39m][\u001B[38;5;124m\"\u001B[39m\u001B[38;5;124mheight\u001B[39m\u001B[38;5;124m\"\u001B[39m]\n\u001B[1;32m     27\u001B[0m     })\n\u001B[1;32m     29\u001B[0m     \u001B[38;5;28;01mfor\u001B[39;00m bbox, category_id \u001B[38;5;129;01min\u001B[39;00m \u001B[38;5;28mzip\u001B[39m(item[\u001B[38;5;124m\"\u001B[39m\u001B[38;5;124mobjects\u001B[39m\u001B[38;5;124m\"\u001B[39m][\u001B[38;5;124m\"\u001B[39m\u001B[38;5;124mbbox\u001B[39m\u001B[38;5;124m\"\u001B[39m], item[\u001B[38;5;124m\"\u001B[39m\u001B[38;5;124mobjects\u001B[39m\u001B[38;5;124m\"\u001B[39m][\u001B[38;5;124m\"\u001B[39m\u001B[38;5;124mcategory\u001B[39m\u001B[38;5;124m\"\u001B[39m]):\n\u001B[1;32m     30\u001B[0m         coco_format[\u001B[38;5;124m\"\u001B[39m\u001B[38;5;124mannotations\u001B[39m\u001B[38;5;124m\"\u001B[39m]\u001B[38;5;241m.\u001B[39mappend({\n\u001B[1;32m     31\u001B[0m             \u001B[38;5;124m\"\u001B[39m\u001B[38;5;124mid\u001B[39m\u001B[38;5;124m\"\u001B[39m: ann_id,\n\u001B[1;32m     32\u001B[0m             \u001B[38;5;124m\"\u001B[39m\u001B[38;5;124mimage_id\u001B[39m\u001B[38;5;124m\"\u001B[39m: idx,\n\u001B[0;32m   (...)\u001B[0m\n\u001B[1;32m     36\u001B[0m             \u001B[38;5;124m\"\u001B[39m\u001B[38;5;124miscrowd\u001B[39m\u001B[38;5;124m\"\u001B[39m: \u001B[38;5;241m0\u001B[39m\n\u001B[1;32m     37\u001B[0m         })\n",
      "\u001B[0;31mTypeError\u001B[0m: string indices must be integers, not 'str'"
     ]
    }
   ],
   "execution_count": 2
  },
  {
   "metadata": {},
   "cell_type": "code",
   "outputs": [],
   "execution_count": null,
   "source": "",
   "id": "c8de2dfe1f4436ed"
  }
 ],
 "metadata": {
  "kernelspec": {
   "display_name": "Python 3",
   "language": "python",
   "name": "python3"
  },
  "language_info": {
   "codemirror_mode": {
    "name": "ipython",
    "version": 2
   },
   "file_extension": ".py",
   "mimetype": "text/x-python",
   "name": "python",
   "nbconvert_exporter": "python",
   "pygments_lexer": "ipython2",
   "version": "2.7.6"
  }
 },
 "nbformat": 4,
 "nbformat_minor": 5
}
